{
  "nbformat": 4,
  "nbformat_minor": 0,
  "metadata": {
    "colab": {
      "name": "recomendation",
      "provenance": [],
      "collapsed_sections": [
        "pasS0QD1TzWn"
      ],
      "mount_file_id": "1mKqtow8CkmBCegd28UC2itgCtPwoZEx4",
      "authorship_tag": "ABX9TyOn42uScginnWJJAhs8OEuE",
      "include_colab_link": true
    },
    "kernelspec": {
      "name": "python3",
      "display_name": "Python 3"
    },
    "language_info": {
      "name": "python"
    }
  },
  "cells": [
    {
      "cell_type": "markdown",
      "metadata": {
        "id": "view-in-github",
        "colab_type": "text"
      },
      "source": [
        "<a href=\"https://colab.research.google.com/github/albert119/newpr1/blob/main/recomendation.ipynb\" target=\"_parent\"><img src=\"https://colab.research.google.com/assets/colab-badge.svg\" alt=\"Open In Colab\"/></a>"
      ]
    },
    {
      "cell_type": "markdown",
      "metadata": {
        "id": "pasS0QD1TzWn"
      },
      "source": [
        "### Импорт данных и подготовка датасета"
      ]
    },
    {
      "cell_type": "code",
      "metadata": {
        "id": "aZfmjNEyq_h8"
      },
      "source": [
        "import numpy as np\n",
        "import pandas as pd\n",
        "import matplotlib.pyplot as plt\n",
        "import os\n",
        "import warnings\n",
        "\n",
        "\n",
        "\n",
        "from sklearn import preprocessing\n",
        "from keras.layers import Input, Embedding, Flatten, Dot, Dense, Concatenate\n",
        "from keras.models import Model\n",
        "\n",
        "warnings.filterwarnings('ignore')\n",
        "%matplotlib inline\n",
        "\n"
      ],
      "execution_count": null,
      "outputs": []
    },
    {
      "cell_type": "code",
      "metadata": {
        "id": "LjXvMttErDGG"
      },
      "source": [
        "import os\n",
        "os.environ['KAGGLE_USERNAME'] = \"<username>\" \n",
        "os.environ['KAGGLE_KEY'] = \"<key>\""
      ],
      "execution_count": null,
      "outputs": []
    },
    {
      "cell_type": "code",
      "metadata": {
        "id": "WZ_AfZw3rKUT"
      },
      "source": [
        "week16 = pd.read_csv('/content/drive/MyDrive/dip/csv/16.csv', usecols = [0,2,4,6,12, 9, 11] )\n",
        "\n",
        "week17 = pd.read_csv('/content/drive/MyDrive/dip/csv/17.csv', usecols = [0,2,4,6,12, 9, 11] )\n",
        "\n",
        "week18 = pd.read_csv('/content/drive/MyDrive/dip/csv/18.csv', usecols = [0,2,4,6,12, 9, 11])\n",
        "\n",
        "week19 = pd.read_csv('/content/drive/MyDrive/dip/csv/19.csv', usecols = [0,2,4,6,12, 9, 11])\n",
        "\n",
        "week20 = pd.read_csv('/content/drive/MyDrive/dip/csv/20.csv', usecols = [0,2,4,6,12, 9, 11])\n",
        "\n",
        "week21 = pd.read_csv('/content/drive/MyDrive/dip/csv/21.csv', usecols = [0,2,4,6,12, 9, 11])\n",
        "\n",
        "week22 = pd.read_csv('/content/drive/MyDrive/dip/csv/22.csv', usecols = [0,2,4,6,12, 9, 11])\n",
        "\n",
        "week23 = pd.read_csv('/content/drive/MyDrive/dip/csv/23.csv', usecols = [0,2,4,6,12, 9, 11])\n",
        "\n",
        "week24 = pd.read_csv('/content/drive/MyDrive/dip/csv/24.csv', usecols = [0,2,4,6,12, 9, 11])"
      ],
      "execution_count": null,
      "outputs": []
    },
    {
      "cell_type": "code",
      "metadata": {
        "id": "_54TN_ros68L"
      },
      "source": [
        "dataset = pd.concat([week16, week17, week18, week19, week20, week21, week22, week23, week24], ignore_index=True)"
      ],
      "execution_count": null,
      "outputs": []
    },
    {
      "cell_type": "code",
      "metadata": {
        "id": "UuKBMST7IbIt"
      },
      "source": [
        "week24"
      ],
      "execution_count": null,
      "outputs": []
    },
    {
      "cell_type": "code",
      "metadata": {
        "id": "ENRYrPoz2nfr"
      },
      "source": [
        "dataset.rename(columns = {'Код товара':'Код_товара'}, inplace = True)\n",
        "dataset.rename(columns = {'Закупочная цена магазина':'цена_зак'}, inplace= True)\n",
        "dataset.rename(columns = {'Текущий тариф':'тариф'}, inplace= True)\n",
        "\n"
      ],
      "execution_count": null,
      "outputs": []
    },
    {
      "cell_type": "code",
      "metadata": {
        "id": "WDEVdfreTqXT"
      },
      "source": [
        "dataset['цена_зак'] = dataset['цена_зак'].replace(\",\",\".\", regex=True).astype(float)\n",
        "dataset['тариф'] = dataset['тариф'].replace(\",\",\".\", regex=True).astype(float)"
      ],
      "execution_count": null,
      "outputs": []
    },
    {
      "cell_type": "code",
      "metadata": {
        "id": "FNhm-cITKgHF"
      },
      "source": [
        "  dataset['Рейтинг'] = ( dataset[\"тариф\"].apply(lambda x: float(x))) - dataset[\"цена_зак\"].apply(lambda x: float(x))\n",
        "\n",
        "  dataset"
      ],
      "execution_count": null,
      "outputs": []
    },
    {
      "cell_type": "code",
      "metadata": {
        "id": "FK4y3t6oT9YP"
      },
      "source": [
        "dataset['Рейтинг'] = preprocessing.normalize(dataset[['Рейтинг']], axis = 0 )\n",
        "dataset"
      ],
      "execution_count": null,
      "outputs": []
    },
    {
      "cell_type": "markdown",
      "metadata": {
        "id": "qKNfRG8hUByU"
      },
      "source": [
        "### Создание модели"
      ]
    },
    {
      "cell_type": "code",
      "metadata": {
        "id": "gC-LBpe1rQVV"
      },
      "source": [
        "from sklearn.model_selection import train_test_split\n",
        "train, test = train_test_split(dataset, test_size=0.2, random_state=42)"
      ],
      "execution_count": null,
      "outputs": []
    },
    {
      "cell_type": "code",
      "metadata": {
        "colab": {
          "base_uri": "https://localhost:8080/"
        },
        "id": "AJnmSY3-sSqj",
        "outputId": "6480ea84-57b9-4b2c-c2b8-ab8844e258f6"
      },
      "source": [
        "n_weeks = len(dataset.Период.unique())\n",
        "n_weeks"
      ],
      "execution_count": null,
      "outputs": [
        {
          "output_type": "execute_result",
          "data": {
            "text/plain": [
              "9"
            ]
          },
          "metadata": {
            "tags": []
          },
          "execution_count": 81
        }
      ]
    },
    {
      "cell_type": "code",
      "metadata": {
        "colab": {
          "base_uri": "https://localhost:8080/"
        },
        "id": "lLUL60LdsVP6",
        "outputId": "161ea70e-7464-4d52-8027-cd084daf424c"
      },
      "source": [
        "n_items = len(dataset.Код_товара.unique())\n",
        "n_items"
      ],
      "execution_count": null,
      "outputs": [
        {
          "output_type": "execute_result",
          "data": {
            "text/plain": [
              "909"
            ]
          },
          "metadata": {
            "tags": []
          },
          "execution_count": 82
        }
      ]
    },
    {
      "cell_type": "code",
      "metadata": {
        "id": "Li8eOh0wUUWh"
      },
      "source": [
        "train"
      ],
      "execution_count": null,
      "outputs": []
    },
    {
      "cell_type": "code",
      "metadata": {
        "id": "3TOTuzOEsYSU"
      },
      "source": [
        "items_input = Input(shape=[1], name=\"items-Input\")\n",
        "items_embedding = Embedding(10000000, 5, name=\"items-Embedding\")(items_input)\n",
        "items_vec = Flatten(name=\"Flatten-items\")(items_embedding)\n",
        "\n",
        "# creating user embedding path\n",
        "weeks_input = Input(shape=[1], name=\"weeks-Input\")\n",
        "weeks_embedding = Embedding(30, 5, name=\"weeks-Embedding\")(weeks_input)\n",
        "weeks_vec = Flatten(name=\"Flatten-weeks\")(weeks_embedding)\n",
        "\n",
        "# performing dot product and creating model\n",
        "prod = Dot(name=\"Dot-Product\", axes=1)([items_vec, weeks_vec])\n",
        "model = Model([weeks_input, items_input], prod)\n",
        "model.compile('adam', 'mean_squared_error')"
      ],
      "execution_count": null,
      "outputs": []
    },
    {
      "cell_type": "code",
      "metadata": {
        "id": "ix7mVlGCsarD"
      },
      "source": [
        "from keras.models import load_model\n",
        "\n",
        "if os.path.exists('regression_model.h5'):\n",
        "    model = load_model('regression_model.h5')\n",
        "else:\n",
        "    history = model.fit([train.Период, train.Код_товара], train.Рейтинг,  epochs=5, verbose=1)\n",
        "    model.save('regression_model.h5')\n",
        "    plt.plot(history.history['loss'])\n",
        "    plt.xlabel(\"Epochs\")\n",
        "    plt.ylabel(\"Training Error\")"
      ],
      "execution_count": null,
      "outputs": []
    },
    {
      "cell_type": "code",
      "metadata": {
        "colab": {
          "base_uri": "https://localhost:8080/"
        },
        "id": "pVqKMTr5sdZK",
        "outputId": "01e8175d-a7a8-4f93-98e5-2c15715b50fd"
      },
      "source": [
        "model.evaluate([test.Период, test.Код_товара], test.Рейтинг)"
      ],
      "execution_count": null,
      "outputs": [
        {
          "output_type": "stream",
          "text": [
            "7/7 [==============================] - 0s 2ms/step - loss: 8.0586e-04\n"
          ],
          "name": "stdout"
        },
        {
          "output_type": "execute_result",
          "data": {
            "text/plain": [
              "0.000805857649538666"
            ]
          },
          "metadata": {
            "tags": []
          },
          "execution_count": 86
        }
      ]
    },
    {
      "cell_type": "code",
      "metadata": {
        "id": "9y6X2Ovxshbj"
      },
      "source": [
        "predictions = model.predict([test.Период.head(10), test.Код_товара.head(10)])\n",
        "\n",
        "[print(predictions[i], test.Рейтинг.iloc[i]) for i in range(0,10)]"
      ],
      "execution_count": null,
      "outputs": []
    },
    {
      "cell_type": "markdown",
      "metadata": {
        "id": "M2csy8AEjQcq"
      },
      "source": [
        "### network"
      ]
    },
    {
      "cell_type": "code",
      "metadata": {
        "id": "jGZWX5frjPkQ"
      },
      "source": [
        "# creating book embedding path\n",
        "items_input = Input(shape=[1], name=\"items-Input\")\n",
        "items_embedding = Embedding(10000000, 5, name=\"items-Embedding\")(items_input)\n",
        "items_vec = Flatten(name=\"items-Books\")(items_embedding)\n",
        "\n",
        "# creating user embedding path\n",
        "weeks_input = Input(shape=[1], name=\"weeks-Input\")\n",
        "weeks_embedding = Embedding(30, 5, name=\"weeks-Embedding\")(weeks_input)\n",
        "weeks_vec = Flatten(name=\"weeks-Users\")(weeks_embedding)\n",
        "\n",
        "# concatenate features\n",
        "conc = Concatenate()([items_vec, weeks_vec])\n",
        "\n",
        "# add fully-connected-layers\n",
        "fc1 = Dense(128, activation='relu')(conc)\n",
        "fc2 = Dense(32, activation='relu')(fc1)\n",
        "out = Dense(1)(fc2)\n",
        "\n",
        "# Create model and compile it\n",
        "model2 = Model([weeks_input, items_input], out)\n",
        "model2.compile('adam', 'mean_squared_error')"
      ],
      "execution_count": null,
      "outputs": []
    },
    {
      "cell_type": "code",
      "metadata": {
        "id": "WO-3ucU_jbw7"
      },
      "source": [
        "from keras.models import load_model\n",
        "\n",
        "if os.path.exists('regression_model3.h5'):\n",
        "    model2 = load_model('regression_model3.h5')\n",
        "else:\n",
        "    history = model2.fit([train.Период, train.Код_товара], train.Рейтинг, epochs=5, verbose=1)\n",
        "    model2.save('regression_model3.h5')\n",
        "    plt.plot(history.history['loss'])\n",
        "    plt.xlabel(\"Epochs\")\n",
        "    plt.ylabel(\"Training Error\")"
      ],
      "execution_count": null,
      "outputs": []
    },
    {
      "cell_type": "code",
      "metadata": {
        "id": "ed8mM7dcjfax"
      },
      "source": [
        "model2.evaluate([test.Период, test.Код_товара], test.Рейтинг)"
      ],
      "execution_count": null,
      "outputs": []
    },
    {
      "cell_type": "code",
      "metadata": {
        "id": "ezuQ3XxjjiQU"
      },
      "source": [
        "predictions = model2.predict([test.Период.head(10), test.Код_товара.head(10)])\n",
        "\n",
        "[print(predictions[i], test.Рейтинг.iloc[i]) for i in range(0,10)]"
      ],
      "execution_count": null,
      "outputs": []
    },
    {
      "cell_type": "markdown",
      "metadata": {
        "id": "pmniLD6AuuDj"
      },
      "source": [
        "### recomend"
      ]
    },
    {
      "cell_type": "code",
      "metadata": {
        "colab": {
          "base_uri": "https://localhost:8080/"
        },
        "id": "qBDaCc-uutFz",
        "outputId": "d6345c41-4953-49af-a1d4-22dde2ca6382"
      },
      "source": [
        "items_data = np.array(list(set(dataset.Код_товара)))\n",
        "items_data[:5]"
      ],
      "execution_count": null,
      "outputs": [
        {
          "output_type": "execute_result",
          "data": {
            "text/plain": [
              "array([233476, 907283, 907286, 747544, 540700])"
            ]
          },
          "metadata": {
            "tags": []
          },
          "execution_count": 92
        }
      ]
    },
    {
      "cell_type": "code",
      "metadata": {
        "colab": {
          "base_uri": "https://localhost:8080/"
        },
        "id": "vMsbfZdbuz9u",
        "outputId": "ef7acbdb-4101-422a-ddde-aab962ea37a6"
      },
      "source": [
        "\n",
        "weeks_data = np.array([1 for i in range(5)])\n",
        "weeks_data[:5]"
      ],
      "execution_count": null,
      "outputs": [
        {
          "output_type": "execute_result",
          "data": {
            "text/plain": [
              "array([1, 1, 1, 1, 1])"
            ]
          },
          "metadata": {
            "tags": []
          },
          "execution_count": 93
        }
      ]
    },
    {
      "cell_type": "markdown",
      "metadata": {
        "id": "j51xvt6FQeZZ"
      },
      "source": [
        "### win"
      ]
    }
  ]
}